{
 "cells": [
  {
   "cell_type": "code",
   "execution_count": 5,
   "id": "331c6435",
   "metadata": {},
   "outputs": [],
   "source": [
    "import numpy as np\n",
    "import matplotlib.pyplot as plt\n",
    "from tensorflow import keras\n",
    "import pandas as pd"
   ]
  },
  {
   "cell_type": "code",
   "execution_count": 8,
   "id": "463e3a24",
   "metadata": {},
   "outputs": [],
   "source": [
    "aspirants_processed = pd.read_csv('aspirants_processed.csv')\n",
    "mentors_processed = pd.read_csv('mentors_processed.csv')"
   ]
  },
  {
   "cell_type": "code",
   "execution_count": null,
   "id": "00d69152",
   "metadata": {},
   "outputs": [
    {
     "name": "stderr",
     "output_type": "stream",
     "text": [
      "WARNING:absl:Compiled the loaded model, but the compiled metrics have yet to be built. `model.compile_metrics` will be empty until you train or evaluate the model.\n"
     ]
    },
    {
     "ename": "NameError",
     "evalue": "name 'content_similarity' is not defined",
     "output_type": "error",
     "traceback": [
      "\u001b[31m---------------------------------------------------------------------------\u001b[39m",
      "\u001b[31mNameError\u001b[39m                                 Traceback (most recent call last)",
      "\u001b[36mCell\u001b[39m\u001b[36m \u001b[39m\u001b[32mIn[9]\u001b[39m\u001b[32m, line 18\u001b[39m\n\u001b[32m     15\u001b[39m     \u001b[38;5;28mprint\u001b[39m(\u001b[33mf\u001b[39m\u001b[33m\"\u001b[39m\u001b[33mTop 3 mentors for Aspirant \u001b[39m\u001b[38;5;132;01m{\u001b[39;00mtest_aspirant_id\u001b[38;5;132;01m}\u001b[39;00m\u001b[33m using reloaded model: \u001b[39m\u001b[38;5;132;01m{\u001b[39;00mtop_mentor_ids\u001b[38;5;132;01m}\u001b[39;00m\u001b[33m\"\u001b[39m)\n\u001b[32m     16\u001b[39m     \u001b[38;5;28;01mreturn\u001b[39;00m is_equal\n\u001b[32m---> \u001b[39m\u001b[32m18\u001b[39m model_reload_successful = \u001b[43mtest_reloaded_model\u001b[49m\u001b[43m(\u001b[49m\u001b[43m)\u001b[49m\n\u001b[32m     20\u001b[39m \u001b[38;5;28mprint\u001b[39m(\u001b[33m\"\u001b[39m\u001b[38;5;130;01m\\n\u001b[39;00m\u001b[33m=== SUMMARY ===\u001b[39m\u001b[33m\"\u001b[39m)\n\u001b[32m     21\u001b[39m \u001b[38;5;28mprint\u001b[39m(\u001b[33mf\u001b[39m\u001b[33m\"\u001b[39m\u001b[33mModel training completed successfully.\u001b[39m\u001b[33m\"\u001b[39m)\n",
      "\u001b[36mCell\u001b[39m\u001b[36m \u001b[39m\u001b[32mIn[9]\u001b[39m\u001b[32m, line 7\u001b[39m, in \u001b[36mtest_reloaded_model\u001b[39m\u001b[34m()\u001b[39m\n\u001b[32m      5\u001b[39m aspirant_indices = np.full(\u001b[38;5;28mlen\u001b[39m(mentors_processed), aspirant_idx)\n\u001b[32m      6\u001b[39m mentor_indices = np.arange(\u001b[38;5;28mlen\u001b[39m(mentors_processed))\n\u001b[32m----> \u001b[39m\u001b[32m7\u001b[39m content_sim_values = \u001b[43mcontent_similarity\u001b[49m[aspirant_idx, :]\n\u001b[32m      8\u001b[39m original_predictions = model.predict([aspirant_indices, mentor_indices, content_sim_values])\n\u001b[32m      9\u001b[39m reloaded_predictions = reloaded_model.predict([aspirant_indices, mentor_indices, content_sim_values])\n",
      "\u001b[31mNameError\u001b[39m: name 'content_similarity' is not defined"
     ]
    }
   ],
   "source": []
  },
  {
   "cell_type": "code",
   "execution_count": null,
   "id": "f93801a4",
   "metadata": {},
   "outputs": [],
   "source": []
  }
 ],
 "metadata": {
  "kernelspec": {
   "display_name": "base",
   "language": "python",
   "name": "python3"
  },
  "language_info": {
   "codemirror_mode": {
    "name": "ipython",
    "version": 3
   },
   "file_extension": ".py",
   "mimetype": "text/x-python",
   "name": "python",
   "nbconvert_exporter": "python",
   "pygments_lexer": "ipython3",
   "version": "3.11.7"
  }
 },
 "nbformat": 4,
 "nbformat_minor": 5
}
