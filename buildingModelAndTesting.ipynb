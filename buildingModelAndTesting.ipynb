{
 "cells": [
  {
   "cell_type": "code",
   "execution_count": 1,
   "id": "2df9432e",
   "metadata": {},
   "outputs": [],
   "source": [
    "import pandas as pd\n",
    "import numpy as np\n",
    "import tensorflow as tf\n",
    "from tensorflow import keras\n",
    "from sklearn.preprocessing import OneHotEncoder, OrdinalEncoder, StandardScaler\n",
    "import random\n",
    "import ast"
   ]
  },
  {
   "cell_type": "markdown",
   "id": "25a7c807",
   "metadata": {},
   "source": [
    "### BUILD CONTENT-BASED SIMILARITY"
   ]
  },
  {
   "cell_type": "code",
   "execution_count": 4,
   "id": "8ea2055a",
   "metadata": {},
   "outputs": [
    {
     "name": "stdout",
     "output_type": "stream",
     "text": [
      "\n",
      "Content Similarity Matrix Shape (Aspirants × Mentors): (100, 50)\n",
      "Sample similarity scores for first aspirant:\n",
      "[0.59 0.18 0.18 0.12 0.18]\n"
     ]
    }
   ],
   "source": [
    "def calculate_content_similarity():\n",
    "    subject_cols_aspirants = [col for col in aspirants_processed.columns if col.startswith('Pref_')]\n",
    "    subject_cols_mentors = [col for col in mentors_processed.columns if col.startswith('Spec_')]\n",
    "    aspirant_subject_matrix = aspirants_processed[subject_cols_aspirants].values\n",
    "    mentor_subject_matrix = mentors_processed[[f\"Spec_{col[5:]}\" for col in subject_cols_aspirants]].values\n",
    "    subject_similarity = np.zeros((len(aspirants_processed), len(mentors_processed)))\n",
    "    \n",
    "    for i in range(len(aspirants_processed)):\n",
    "        for j in range(len(mentors_processed)):\n",
    "            subject_similarity[i, j] = np.dot(aspirant_subject_matrix[i], mentor_subject_matrix[j])\n",
    "    \n",
    "    subject_similarity = subject_similarity / (np.sum(aspirant_subject_matrix, axis=1)[:, np.newaxis] + 1e-8)\n",
    "    learning_style_cols = [col for col in aspirants_processed.columns if col.startswith('Learning_')]\n",
    "    teaching_style_cols = [col for col in mentors_processed.columns if col.startswith('Teaching_')]\n",
    "    learning_teaching_compatibility = {\n",
    "        'Learning_Visual': {'Teaching_Interactive': 0.8, 'Teaching_Problem-solving': 0.6, 'Teaching_Lecture-based': 0.4},\n",
    "        'Learning_Auditory': {'Teaching_Lecture-based': 0.9, 'Teaching_Interactive': 0.7, 'Teaching_Problem-solving': 0.5},\n",
    "        'Learning_Kinesthetic': {'Teaching_Problem-solving': 0.9, 'Teaching_Interactive': 0.7, 'Teaching_Lecture-based': 0.3},\n",
    "        'Learning_Reading/Writing': {'Teaching_Problem-solving': 0.8, 'Teaching_Lecture-based': 0.7, 'Teaching_Interactive': 0.6}\n",
    "    }\n",
    "    style_compatibility = np.zeros((len(aspirants_processed), len(mentors_processed)))\n",
    "    \n",
    "    for i, aspirant_idx in enumerate(aspirants_processed.index):\n",
    "        aspirant_style = None\n",
    "        for style_col in learning_style_cols:\n",
    "            if aspirants_processed.loc[aspirant_idx, style_col] == 1:\n",
    "                aspirant_style = style_col\n",
    "                break\n",
    "        \n",
    "        if aspirant_style:\n",
    "            for j, mentor_idx in enumerate(mentors_processed.index):\n",
    "                mentor_style = None\n",
    "                for style_col in teaching_style_cols:\n",
    "                    if mentors_processed.loc[mentor_idx, style_col] == 1:\n",
    "                        mentor_style = style_col\n",
    "                        break\n",
    "                \n",
    "                if mentor_style and aspirant_style in learning_teaching_compatibility:\n",
    "                    style_compatibility[i, j] = learning_teaching_compatibility[aspirant_style].get(mentor_style, 0.2)\n",
    "                else:\n",
    "                    style_compatibility[i, j] = 0.2\n",
    "    \n",
    "    content_similarity = 0.7 * subject_similarity + 0.3 * style_compatibility\n",
    "    return content_similarity\n",
    "\n",
    "content_similarity = calculate_content_similarity()\n",
    "\n",
    "print(\"\\nContent Similarity Matrix Shape (Aspirants × Mentors):\", content_similarity.shape)\n",
    "print(\"Sample similarity scores for first aspirant:\")\n",
    "print(content_similarity[0, :5])\n"
   ]
  },
  {
   "cell_type": "code",
   "execution_count": 3,
   "id": "860c1c3d",
   "metadata": {},
   "outputs": [],
   "source": [
    "aspirants_processed = pd.read_csv('aspirants_processed.csv')\n",
    "mentors_processed = pd.read_csv('mentors_processed.csv')"
   ]
  },
  {
   "cell_type": "markdown",
   "id": "b5280be9",
   "metadata": {},
   "source": [
    "### PROCESSING INTERACTION DATA FOR COLLABORATIVE FILTERING"
   ]
  },
  {
   "cell_type": "code",
   "execution_count": 7,
   "id": "85a29a7f",
   "metadata": {},
   "outputs": [
    {
     "name": "stdout",
     "output_type": "stream",
     "text": [
      "\n",
      "Interaction Matrix Shape: (100, 50)\n",
      "Ratings Matrix Shape: (100, 50)\n",
      "Number of rating data points: 71\n"
     ]
    }
   ],
   "source": [
    "def process_interaction_data():\n",
    "    ratings_df = interactions_df[interactions_df['Rating'].notna()].copy()\n",
    "    ratings_df['Rating'] = ratings_df['Rating'].astype(float)\n",
    "    interaction_type_dummies = pd.get_dummies(interactions_df['Interaction Type'], prefix='Int')\n",
    "    interaction_features = pd.concat([interactions_df[['Aspirant ID', 'Mentor ID']], interaction_type_dummies], axis=1)\n",
    "    interaction_agg = interaction_features.groupby(['Aspirant ID', 'Mentor ID']).sum().reset_index()\n",
    "    interaction_matrix = np.zeros((len(aspirants_processed), len(mentors_processed)))\n",
    "    \n",
    "    for idx, row in interaction_agg.iterrows():\n",
    "        aspirant_idx = aspirants_processed.index[aspirants_processed['Aspirant ID'] == row['Aspirant ID']].tolist()\n",
    "        mentor_idx = mentors_processed.index[mentors_processed['Mentor ID'] == row['Mentor ID']].tolist()\n",
    "        if aspirant_idx and mentor_idx:\n",
    "            interaction_matrix[aspirant_idx[0], mentor_idx[0]] = (\n",
    "                row.get('Int_Message', 0) * 0.3 + \n",
    "                row.get('Int_Session', 0) * 0.5 + \n",
    "                row.get('Int_Rating', 0) * 0.2\n",
    "            )\n",
    "    \n",
    "    ratings_matrix = np.zeros((len(aspirants_processed), len(mentors_processed)))\n",
    "    ratings_matrix.fill(np.nan)\n",
    "    \n",
    "    for idx, row in ratings_df.iterrows():\n",
    "        aspirant_idx = aspirants_processed.index[aspirants_processed['Aspirant ID'] == row['Aspirant ID']].tolist()\n",
    "        mentor_idx = mentors_processed.index[mentors_processed['Mentor ID'] == row['Mentor ID']].tolist()\n",
    "        if aspirant_idx and mentor_idx:\n",
    "            ratings_matrix[aspirant_idx[0], mentor_idx[0]] = row['Rating']\n",
    "    \n",
    "    train_data = []\n",
    "    for i in range(ratings_matrix.shape[0]):\n",
    "        for j in range(ratings_matrix.shape[1]):\n",
    "            if not np.isnan(ratings_matrix[i, j]):\n",
    "                train_data.append((i, j, ratings_matrix[i, j]))\n",
    "    \n",
    "    return interaction_matrix, ratings_matrix, train_data\n",
    "\n",
    "interaction_matrix, ratings_matrix, train_data = process_interaction_data()\n",
    "\n",
    "print(\"\\nInteraction Matrix Shape:\", interaction_matrix.shape)\n",
    "print(\"Ratings Matrix Shape:\", ratings_matrix.shape)\n",
    "print(f\"Number of rating data points: {len(train_data)}\")\n"
   ]
  },
  {
   "cell_type": "code",
   "execution_count": 6,
   "id": "475b7148",
   "metadata": {},
   "outputs": [],
   "source": [
    "interactions_df = pd.read_csv('interactions.csv')"
   ]
  },
  {
   "cell_type": "markdown",
   "id": "94d9c8a8",
   "metadata": {},
   "source": [
    "### BUILDING AND TRAINING HYBRID RECOMMENDATION MODEL"
   ]
  },
  {
   "cell_type": "code",
   "execution_count": 12,
   "id": "abfa7be4",
   "metadata": {},
   "outputs": [],
   "source": [
    "from tensorflow.keras.layers import Input, Embedding, Flatten, Dense, Concatenate, Dropout\n",
    "from tensorflow.keras.regularizers import l2\n",
    "from tensorflow.keras.callbacks import EarlyStopping\n",
    "import matplotlib.pyplot as plt"
   ]
  },
  {
   "cell_type": "code",
   "execution_count": 13,
   "id": "414baea2",
   "metadata": {},
   "outputs": [
    {
     "name": "stdout",
     "output_type": "stream",
     "text": [
      "Epoch 1/50\n",
      "\u001b[1m7/7\u001b[0m \u001b[32m━━━━━━━━━━━━━━━━━━━━\u001b[0m\u001b[37m\u001b[0m \u001b[1m1s\u001b[0m 22ms/step - loss: 0.7089 - mean_absolute_error: 0.3222 - val_loss: 0.7027 - val_mean_absolute_error: 0.3364\n",
      "Epoch 2/50\n",
      "\u001b[1m7/7\u001b[0m \u001b[32m━━━━━━━━━━━━━━━━━━━━\u001b[0m\u001b[37m\u001b[0m \u001b[1m0s\u001b[0m 6ms/step - loss: 0.6597 - mean_absolute_error: 0.3110 - val_loss: 0.6617 - val_mean_absolute_error: 0.3362\n",
      "Epoch 3/50\n",
      "\u001b[1m7/7\u001b[0m \u001b[32m━━━━━━━━━━━━━━━━━━━━\u001b[0m\u001b[37m\u001b[0m \u001b[1m0s\u001b[0m 6ms/step - loss: 0.6179 - mean_absolute_error: 0.3064 - val_loss: 0.6244 - val_mean_absolute_error: 0.3361\n",
      "Epoch 4/50\n",
      "\u001b[1m7/7\u001b[0m \u001b[32m━━━━━━━━━━━━━━━━━━━━\u001b[0m\u001b[37m\u001b[0m \u001b[1m0s\u001b[0m 6ms/step - loss: 0.5757 - mean_absolute_error: 0.2908 - val_loss: 0.5902 - val_mean_absolute_error: 0.3362\n",
      "Epoch 5/50\n",
      "\u001b[1m7/7\u001b[0m \u001b[32m━━━━━━━━━━━━━━━━━━━━\u001b[0m\u001b[37m\u001b[0m \u001b[1m0s\u001b[0m 6ms/step - loss: 0.5406 - mean_absolute_error: 0.3043 - val_loss: 0.5590 - val_mean_absolute_error: 0.3360\n",
      "Epoch 6/50\n",
      "\u001b[1m7/7\u001b[0m \u001b[32m━━━━━━━━━━━━━━━━━━━━\u001b[0m\u001b[37m\u001b[0m \u001b[1m0s\u001b[0m 6ms/step - loss: 0.4938 - mean_absolute_error: 0.2700 - val_loss: 0.5301 - val_mean_absolute_error: 0.3355\n",
      "Epoch 7/50\n",
      "\u001b[1m7/7\u001b[0m \u001b[32m━━━━━━━━━━━━━━━━━━━━\u001b[0m\u001b[37m\u001b[0m \u001b[1m0s\u001b[0m 6ms/step - loss: 0.4817 - mean_absolute_error: 0.2880 - val_loss: 0.5035 - val_mean_absolute_error: 0.3353\n",
      "Epoch 8/50\n",
      "\u001b[1m7/7\u001b[0m \u001b[32m━━━━━━━━━━━━━━━━━━━━\u001b[0m\u001b[37m\u001b[0m \u001b[1m0s\u001b[0m 6ms/step - loss: 0.4680 - mean_absolute_error: 0.3082 - val_loss: 0.4787 - val_mean_absolute_error: 0.3356\n",
      "Epoch 9/50\n",
      "\u001b[1m7/7\u001b[0m \u001b[32m━━━━━━━━━━━━━━━━━━━━\u001b[0m\u001b[37m\u001b[0m \u001b[1m0s\u001b[0m 8ms/step - loss: 0.4385 - mean_absolute_error: 0.3011 - val_loss: 0.4557 - val_mean_absolute_error: 0.3354\n",
      "Epoch 10/50\n",
      "\u001b[1m7/7\u001b[0m \u001b[32m━━━━━━━━━━━━━━━━━━━━\u001b[0m\u001b[37m\u001b[0m \u001b[1m0s\u001b[0m 6ms/step - loss: 0.4026 - mean_absolute_error: 0.2877 - val_loss: 0.4343 - val_mean_absolute_error: 0.3351\n",
      "Epoch 11/50\n",
      "\u001b[1m7/7\u001b[0m \u001b[32m━━━━━━━━━━━━━━━━━━━━\u001b[0m\u001b[37m\u001b[0m \u001b[1m0s\u001b[0m 7ms/step - loss: 0.3972 - mean_absolute_error: 0.3145 - val_loss: 0.4144 - val_mean_absolute_error: 0.3350\n",
      "Epoch 12/50\n",
      "\u001b[1m7/7\u001b[0m \u001b[32m━━━━━━━━━━━━━━━━━━━━\u001b[0m\u001b[37m\u001b[0m \u001b[1m0s\u001b[0m 6ms/step - loss: 0.3807 - mean_absolute_error: 0.3164 - val_loss: 0.3960 - val_mean_absolute_error: 0.3349\n",
      "Epoch 13/50\n",
      "\u001b[1m7/7\u001b[0m \u001b[32m━━━━━━━━━━━━━━━━━━━━\u001b[0m\u001b[37m\u001b[0m \u001b[1m0s\u001b[0m 6ms/step - loss: 0.3495 - mean_absolute_error: 0.2877 - val_loss: 0.3787 - val_mean_absolute_error: 0.3350\n",
      "Epoch 14/50\n",
      "\u001b[1m7/7\u001b[0m \u001b[32m━━━━━━━━━━━━━━━━━━━━\u001b[0m\u001b[37m\u001b[0m \u001b[1m0s\u001b[0m 6ms/step - loss: 0.3460 - mean_absolute_error: 0.3159 - val_loss: 0.3628 - val_mean_absolute_error: 0.3349\n",
      "Epoch 15/50\n",
      "\u001b[1m7/7\u001b[0m \u001b[32m━━━━━━━━━━━━━━━━━━━━\u001b[0m\u001b[37m\u001b[0m \u001b[1m0s\u001b[0m 8ms/step - loss: 0.3180 - mean_absolute_error: 0.2938 - val_loss: 0.3480 - val_mean_absolute_error: 0.3353\n",
      "Epoch 16/50\n",
      "\u001b[1m7/7\u001b[0m \u001b[32m━━━━━━━━━━━━━━━━━━━━\u001b[0m\u001b[37m\u001b[0m \u001b[1m0s\u001b[0m 6ms/step - loss: 0.3035 - mean_absolute_error: 0.2801 - val_loss: 0.3342 - val_mean_absolute_error: 0.3349\n",
      "Epoch 17/50\n",
      "\u001b[1m7/7\u001b[0m \u001b[32m━━━━━━━━━━━━━━━━━━━━\u001b[0m\u001b[37m\u001b[0m \u001b[1m0s\u001b[0m 6ms/step - loss: 0.2918 - mean_absolute_error: 0.2959 - val_loss: 0.3215 - val_mean_absolute_error: 0.3351\n",
      "Epoch 18/50\n",
      "\u001b[1m7/7\u001b[0m \u001b[32m━━━━━━━━━━━━━━━━━━━━\u001b[0m\u001b[37m\u001b[0m \u001b[1m0s\u001b[0m 6ms/step - loss: 0.2801 - mean_absolute_error: 0.3011 - val_loss: 0.3096 - val_mean_absolute_error: 0.3351\n",
      "Epoch 19/50\n",
      "\u001b[1m7/7\u001b[0m \u001b[32m━━━━━━━━━━━━━━━━━━━━\u001b[0m\u001b[37m\u001b[0m \u001b[1m0s\u001b[0m 6ms/step - loss: 0.2598 - mean_absolute_error: 0.2837 - val_loss: 0.2986 - val_mean_absolute_error: 0.3354\n",
      "Epoch 20/50\n",
      "\u001b[1m7/7\u001b[0m \u001b[32m━━━━━━━━━━━━━━━━━━━━\u001b[0m\u001b[37m\u001b[0m \u001b[1m0s\u001b[0m 6ms/step - loss: 0.2516 - mean_absolute_error: 0.2906 - val_loss: 0.2884 - val_mean_absolute_error: 0.3356\n",
      "Epoch 21/50\n",
      "\u001b[1m7/7\u001b[0m \u001b[32m━━━━━━━━━━━━━━━━━━━━\u001b[0m\u001b[37m\u001b[0m \u001b[1m0s\u001b[0m 6ms/step - loss: 0.2323 - mean_absolute_error: 0.2757 - val_loss: 0.2789 - val_mean_absolute_error: 0.3351\n",
      "Epoch 22/50\n",
      "\u001b[1m7/7\u001b[0m \u001b[32m━━━━━━━━━━━━━━━━━━━━\u001b[0m\u001b[37m\u001b[0m \u001b[1m0s\u001b[0m 6ms/step - loss: 0.2364 - mean_absolute_error: 0.2924 - val_loss: 0.2700 - val_mean_absolute_error: 0.3352\n",
      "Epoch 23/50\n",
      "\u001b[1m7/7\u001b[0m \u001b[32m━━━━━━━━━━━━━━━━━━━━\u001b[0m\u001b[37m\u001b[0m \u001b[1m0s\u001b[0m 6ms/step - loss: 0.2231 - mean_absolute_error: 0.2841 - val_loss: 0.2619 - val_mean_absolute_error: 0.3352\n",
      "Epoch 24/50\n",
      "\u001b[1m7/7\u001b[0m \u001b[32m━━━━━━━━━━━━━━━━━━━━\u001b[0m\u001b[37m\u001b[0m \u001b[1m0s\u001b[0m 6ms/step - loss: 0.2186 - mean_absolute_error: 0.2915 - val_loss: 0.2542 - val_mean_absolute_error: 0.3355\n",
      "Epoch 25/50\n",
      "\u001b[1m7/7\u001b[0m \u001b[32m━━━━━━━━━━━━━━━━━━━━\u001b[0m\u001b[37m\u001b[0m \u001b[1m0s\u001b[0m 6ms/step - loss: 0.2173 - mean_absolute_error: 0.3054 - val_loss: 0.2471 - val_mean_absolute_error: 0.3354\n",
      "Epoch 26/50\n",
      "\u001b[1m7/7\u001b[0m \u001b[32m━━━━━━━━━━━━━━━━━━━━\u001b[0m\u001b[37m\u001b[0m \u001b[1m0s\u001b[0m 6ms/step - loss: 0.2088 - mean_absolute_error: 0.2979 - val_loss: 0.2405 - val_mean_absolute_error: 0.3349\n",
      "Epoch 27/50\n",
      "\u001b[1m7/7\u001b[0m \u001b[32m━━━━━━━━━━━━━━━━━━━━\u001b[0m\u001b[37m\u001b[0m \u001b[1m0s\u001b[0m 19ms/step - loss: 0.2041 - mean_absolute_error: 0.3009 - val_loss: 0.2345 - val_mean_absolute_error: 0.3347\n",
      "Epoch 28/50\n",
      "\u001b[1m7/7\u001b[0m \u001b[32m━━━━━━━━━━━━━━━━━━━━\u001b[0m\u001b[37m\u001b[0m \u001b[1m0s\u001b[0m 6ms/step - loss: 0.1866 - mean_absolute_error: 0.2912 - val_loss: 0.2290 - val_mean_absolute_error: 0.3349\n",
      "Epoch 29/50\n",
      "\u001b[1m7/7\u001b[0m \u001b[32m━━━━━━━━━━━━━━━━━━━━\u001b[0m\u001b[37m\u001b[0m \u001b[1m0s\u001b[0m 6ms/step - loss: 0.1954 - mean_absolute_error: 0.2999 - val_loss: 0.2240 - val_mean_absolute_error: 0.3348\n",
      "Epoch 30/50\n",
      "\u001b[1m7/7\u001b[0m \u001b[32m━━━━━━━━━━━━━━━━━━━━\u001b[0m\u001b[37m\u001b[0m \u001b[1m0s\u001b[0m 6ms/step - loss: 0.1781 - mean_absolute_error: 0.2859 - val_loss: 0.2193 - val_mean_absolute_error: 0.3346\n",
      "Epoch 31/50\n",
      "\u001b[1m7/7\u001b[0m \u001b[32m━━━━━━━━━━━━━━━━━━━━\u001b[0m\u001b[37m\u001b[0m \u001b[1m0s\u001b[0m 7ms/step - loss: 0.1852 - mean_absolute_error: 0.3027 - val_loss: 0.2149 - val_mean_absolute_error: 0.3342\n",
      "Epoch 32/50\n",
      "\u001b[1m7/7\u001b[0m \u001b[32m━━━━━━━━━━━━━━━━━━━━\u001b[0m\u001b[37m\u001b[0m \u001b[1m0s\u001b[0m 7ms/step - loss: 0.1857 - mean_absolute_error: 0.3163 - val_loss: 0.2111 - val_mean_absolute_error: 0.3339\n",
      "Epoch 33/50\n",
      "\u001b[1m7/7\u001b[0m \u001b[32m━━━━━━━━━━━━━━━━━━━━\u001b[0m\u001b[37m\u001b[0m \u001b[1m0s\u001b[0m 6ms/step - loss: 0.1750 - mean_absolute_error: 0.2979 - val_loss: 0.2074 - val_mean_absolute_error: 0.3342\n",
      "Epoch 34/50\n",
      "\u001b[1m7/7\u001b[0m \u001b[32m━━━━━━━━━━━━━━━━━━━━\u001b[0m\u001b[37m\u001b[0m \u001b[1m0s\u001b[0m 6ms/step - loss: 0.1590 - mean_absolute_error: 0.2834 - val_loss: 0.2040 - val_mean_absolute_error: 0.3347\n",
      "Epoch 35/50\n",
      "\u001b[1m7/7\u001b[0m \u001b[32m━━━━━━━━━━━━━━━━━━━━\u001b[0m\u001b[37m\u001b[0m \u001b[1m0s\u001b[0m 6ms/step - loss: 0.1531 - mean_absolute_error: 0.2780 - val_loss: 0.2008 - val_mean_absolute_error: 0.3343\n",
      "Epoch 36/50\n",
      "\u001b[1m7/7\u001b[0m \u001b[32m━━━━━━━━━━━━━━━━━━━━\u001b[0m\u001b[37m\u001b[0m \u001b[1m0s\u001b[0m 6ms/step - loss: 0.1568 - mean_absolute_error: 0.2852 - val_loss: 0.1981 - val_mean_absolute_error: 0.3340\n",
      "Epoch 37/50\n",
      "\u001b[1m7/7\u001b[0m \u001b[32m━━━━━━━━━━━━━━━━━━━━\u001b[0m\u001b[37m\u001b[0m \u001b[1m0s\u001b[0m 6ms/step - loss: 0.1531 - mean_absolute_error: 0.2920 - val_loss: 0.1955 - val_mean_absolute_error: 0.3341\n",
      "Epoch 38/50\n",
      "\u001b[1m7/7\u001b[0m \u001b[32m━━━━━━━━━━━━━━━━━━━━\u001b[0m\u001b[37m\u001b[0m \u001b[1m0s\u001b[0m 6ms/step - loss: 0.1464 - mean_absolute_error: 0.2799 - val_loss: 0.1932 - val_mean_absolute_error: 0.3341\n",
      "Epoch 39/50\n",
      "\u001b[1m7/7\u001b[0m \u001b[32m━━━━━━━━━━━━━━━━━━━━\u001b[0m\u001b[37m\u001b[0m \u001b[1m0s\u001b[0m 14ms/step - loss: 0.1565 - mean_absolute_error: 0.2999 - val_loss: 0.1912 - val_mean_absolute_error: 0.3344\n",
      "Epoch 40/50\n",
      "\u001b[1m7/7\u001b[0m \u001b[32m━━━━━━━━━━━━━━━━━━━━\u001b[0m\u001b[37m\u001b[0m \u001b[1m0s\u001b[0m 7ms/step - loss: 0.1476 - mean_absolute_error: 0.2974 - val_loss: 0.1892 - val_mean_absolute_error: 0.3345\n",
      "Epoch 41/50\n",
      "\u001b[1m7/7\u001b[0m \u001b[32m━━━━━━━━━━━━━━━━━━━━\u001b[0m\u001b[37m\u001b[0m \u001b[1m0s\u001b[0m 6ms/step - loss: 0.1494 - mean_absolute_error: 0.2894 - val_loss: 0.1876 - val_mean_absolute_error: 0.3346\n",
      "Epoch 42/50\n",
      "\u001b[1m7/7\u001b[0m \u001b[32m━━━━━━━━━━━━━━━━━━━━\u001b[0m\u001b[37m\u001b[0m \u001b[1m0s\u001b[0m 6ms/step - loss: 0.1526 - mean_absolute_error: 0.3092 - val_loss: 0.1861 - val_mean_absolute_error: 0.3345\n",
      "Epoch 43/50\n",
      "\u001b[1m7/7\u001b[0m \u001b[32m━━━━━━━━━━━━━━━━━━━━\u001b[0m\u001b[37m\u001b[0m \u001b[1m0s\u001b[0m 6ms/step - loss: 0.1455 - mean_absolute_error: 0.2930 - val_loss: 0.1846 - val_mean_absolute_error: 0.3342\n",
      "Epoch 44/50\n",
      "\u001b[1m7/7\u001b[0m \u001b[32m━━━━━━━━━━━━━━━━━━━━\u001b[0m\u001b[37m\u001b[0m \u001b[1m0s\u001b[0m 6ms/step - loss: 0.1479 - mean_absolute_error: 0.2922 - val_loss: 0.1834 - val_mean_absolute_error: 0.3346\n",
      "Epoch 45/50\n",
      "\u001b[1m7/7\u001b[0m \u001b[32m━━━━━━━━━━━━━━━━━━━━\u001b[0m\u001b[37m\u001b[0m \u001b[1m0s\u001b[0m 6ms/step - loss: 0.1522 - mean_absolute_error: 0.3163 - val_loss: 0.1823 - val_mean_absolute_error: 0.3345\n",
      "Epoch 46/50\n",
      "\u001b[1m7/7\u001b[0m \u001b[32m━━━━━━━━━━━━━━━━━━━━\u001b[0m\u001b[37m\u001b[0m \u001b[1m0s\u001b[0m 6ms/step - loss: 0.1624 - mean_absolute_error: 0.3291 - val_loss: 0.1814 - val_mean_absolute_error: 0.3350\n",
      "Epoch 47/50\n",
      "\u001b[1m7/7\u001b[0m \u001b[32m━━━━━━━━━━━━━━━━━━━━\u001b[0m\u001b[37m\u001b[0m \u001b[1m0s\u001b[0m 6ms/step - loss: 0.1386 - mean_absolute_error: 0.2857 - val_loss: 0.1805 - val_mean_absolute_error: 0.3345\n",
      "Epoch 48/50\n",
      "\u001b[1m7/7\u001b[0m \u001b[32m━━━━━━━━━━━━━━━━━━━━\u001b[0m\u001b[37m\u001b[0m \u001b[1m0s\u001b[0m 6ms/step - loss: 0.1349 - mean_absolute_error: 0.2913 - val_loss: 0.1796 - val_mean_absolute_error: 0.3335\n",
      "Epoch 49/50\n",
      "\u001b[1m7/7\u001b[0m \u001b[32m━━━━━━━━━━━━━━━━━━━━\u001b[0m\u001b[37m\u001b[0m \u001b[1m0s\u001b[0m 6ms/step - loss: 0.1328 - mean_absolute_error: 0.2822 - val_loss: 0.1791 - val_mean_absolute_error: 0.3332\n",
      "Epoch 50/50\n",
      "\u001b[1m7/7\u001b[0m \u001b[32m━━━━━━━━━━━━━━━━━━━━\u001b[0m\u001b[37m\u001b[0m \u001b[1m0s\u001b[0m 6ms/step - loss: 0.1366 - mean_absolute_error: 0.2877 - val_loss: 0.1787 - val_mean_absolute_error: 0.3334\n"
     ]
    },
    {
     "name": "stderr",
     "output_type": "stream",
     "text": [
      "WARNING:absl:You are saving your model as an HDF5 file via `model.save()` or `keras.saving.save_model(model)`. This file format is considered legacy. We recommend using instead the native Keras format, e.g. `model.save('my_model.keras')` or `keras.saving.save_model(model, 'my_model.keras')`. \n"
     ]
    },
    {
     "name": "stdout",
     "output_type": "stream",
     "text": [
      "\n",
      "Model saved as 'mentor_recommender.h5'\n"
     ]
    },
    {
     "data": {
      "image/png": "[encoded data removed]",
      "text/plain": [
       "<Figure size 1200x400 with 2 Axes>"
      ]
     },
     "metadata": {},
     "output_type": "display_data"
    }
   ],
   "source": [
    "def build_hybrid_model():\n",
    "    n_aspirants = len(aspirants_processed)\n",
    "    n_mentors = len(mentors_processed)\n",
    "    embedding_dim = 20\n",
    "\n",
    "    aspirant_indices = np.array([x[0] for x in train_data])\n",
    "    mentor_indices = np.array([x[1] for x in train_data])\n",
    "    ratings = np.array([x[2] for x in train_data])\n",
    "    ratings_normalized = (ratings - 1) / 4.0\n",
    "\n",
    "    aspirant_input = Input(shape=(1,), name='aspirant_input')\n",
    "    aspirant_embedding = Embedding(n_aspirants, embedding_dim, name='aspirant_embedding',\n",
    "                                    embeddings_regularizer=l2(0.01))(aspirant_input)\n",
    "    aspirant_vec = Flatten()(aspirant_embedding)\n",
    "\n",
    "    mentor_input = Input(shape=(1,), name='mentor_input')\n",
    "    mentor_embedding = Embedding(n_mentors, embedding_dim, name='mentor_embedding',\n",
    "                                  embeddings_regularizer=l2(0.01))(mentor_input)\n",
    "    mentor_vec = Flatten()(mentor_embedding)\n",
    "\n",
    "    content_sim_input = Input(shape=(1,), name='content_similarity')\n",
    "    concat_features = Concatenate()([aspirant_vec, mentor_vec, content_sim_input])\n",
    "\n",
    "    dense1 = Dense(32, activation='relu', kernel_regularizer=l2(0.01))(concat_features)\n",
    "    dropout1 = Dropout(0.2)(dense1)\n",
    "    dense2 = Dense(16, activation='relu', kernel_regularizer=l2(0.01))(dropout1)\n",
    "    dropout2 = Dropout(0.2)(dense2)\n",
    "    output = Dense(1, activation='sigmoid', name='output')(dropout2)\n",
    "\n",
    "    model = keras.Model(inputs=[aspirant_input, mentor_input, content_sim_input], outputs=output)\n",
    "    model.compile(optimizer=keras.optimizers.Adam(learning_rate=0.001),\n",
    "                  loss='mean_squared_error', metrics=['mean_absolute_error'])\n",
    "\n",
    "    content_sim_values = np.array([content_similarity[a_idx, m_idx] for a_idx, m_idx, _ in train_data])\n",
    "\n",
    "    early_stopping = EarlyStopping(monitor='val_loss', patience=5, restore_best_weights=True)\n",
    "\n",
    "    history = model.fit([aspirant_indices, mentor_indices, content_sim_values],\n",
    "                        ratings_normalized, epochs=50, batch_size=8,\n",
    "                        validation_split=0.2, callbacks=[early_stopping], verbose=1)\n",
    "\n",
    "    plt.figure(figsize=(12, 4))\n",
    "    plt.subplot(1, 2, 1)\n",
    "    plt.plot(history.history['loss'], label='Training Loss')\n",
    "    plt.plot(history.history['val_loss'], label='Validation Loss')\n",
    "    plt.xlabel('Epochs')\n",
    "    plt.ylabel('Loss')\n",
    "    plt.legend()\n",
    "\n",
    "    plt.subplot(1, 2, 2)\n",
    "    plt.plot(history.history['mean_absolute_error'], label='Training MAE')\n",
    "    plt.plot(history.history['val_mean_absolute_error'], label='Validation MAE')\n",
    "    plt.xlabel('Epochs')\n",
    "    plt.ylabel('Mean Absolute Error')\n",
    "    plt.legend()\n",
    "    plt.tight_layout()\n",
    "    plt.savefig('training_history.png')\n",
    "\n",
    "    return model, history\n",
    "\n",
    "model, history = build_hybrid_model()\n",
    "model.save(\"mentor_recommender.h5\")\n",
    "print(\"\\nModel saved as 'mentor_recommender.h5'\")\n"
   ]
  },
  {
   "cell_type": "markdown",
   "id": "b9100a10",
   "metadata": {},
   "source": [
    "### GENERATING RECOMMENDATIONS"
   ]
  },
  {
   "cell_type": "code",
   "execution_count": 20,
   "id": "22141636",
   "metadata": {},
   "outputs": [
    {
     "name": "stdout",
     "output_type": "stream",
     "text": [
      "\u001b[1m2/2\u001b[0m \u001b[32m━━━━━━━━━━━━━━━━━━━━\u001b[0m\u001b[37m\u001b[0m \u001b[1m0s\u001b[0m 12ms/step\n",
      "\n",
      "Top 3 Recommended Mentors for Aspirant 3:\n",
      "   Mentor ID       Specialization  College Attended  Predicted Score  \\\n",
      "0        116  ['Legal Reasoning']       NLIU Bhopal         3.056372   \n",
      "1        106  ['Legal Reasoning']  GNLU Gandhinagar         3.051637   \n",
      "2        133  ['Legal Reasoning']   NLSIU Bangalore         3.049967   \n",
      "\n",
      "   Content Similarity  Has Interaction  \n",
      "0                0.18             True  \n",
      "1                0.24            False  \n",
      "2                0.24            False  \n"
     ]
    }
   ],
   "source": [
    "mentor_df = pd.read_csv('mentors.csv')\n",
    "interactions_df = pd.read_csv('interactions.csv')\n",
    "\n",
    "def recommend_mentors(aspirant_id, top_n=3):\n",
    "    aspirant_idx = aspirants_processed.index[aspirants_processed['Aspirant ID'] == aspirant_id].tolist()[0]\n",
    "    aspirant_indices = np.full(len(mentors_processed), aspirant_idx)\n",
    "    mentor_indices = np.arange(len(mentors_processed))\n",
    "    content_sim_values = content_similarity[aspirant_idx, :]\n",
    "    predictions = model.predict([aspirant_indices, mentor_indices, content_sim_values])\n",
    "    predictions_scaled = predictions * 4.0 + 1.0\n",
    "    mentor_scores = pd.DataFrame({\n",
    "        'Mentor ID': mentor_df['Mentor ID'],\n",
    "        'Predicted Score': predictions_scaled.flatten(),\n",
    "        'Content Similarity': content_similarity[aspirant_idx, :]\n",
    "    })\n",
    "    existing_interactions = interactions_df[interactions_df['Aspirant ID'] == aspirant_id]['Mentor ID'].unique()\n",
    "    mentor_scores['Has Interaction'] = mentor_scores['Mentor ID'].isin(existing_interactions)\n",
    "    recommended_mentors = mentor_scores.sort_values('Predicted Score', ascending=False).head(top_n)\n",
    "    recommendations_with_details = recommended_mentors.merge(\n",
    "        mentor_df[['Mentor ID', 'Specialization', 'College Attended', 'Teaching Style', 'Rating']],\n",
    "        on='Mentor ID'\n",
    "    )\n",
    "    return recommendations_with_details\n",
    "\n",
    "sample_aspirant_id = 3\n",
    "recommendations = recommend_mentors(sample_aspirant_id)\n",
    "print(f\"\\nTop 3 Recommended Mentors for Aspirant {sample_aspirant_id}:\")\n",
    "print(recommendations[['Mentor ID', 'Specialization', 'College Attended', 'Predicted Score', 'Content Similarity', 'Has Interaction']])\n"
   ]
  },
  {
   "cell_type": "code",
   "execution_count": 17,
   "id": "4d38e064",
   "metadata": {},
   "outputs": [],
   "source": [
    "mentor_df = pd.read_csv('mentors.csv')\n",
    "interactions_df = pd.read_csv('interactions.csv')"
   ]
  },
  {
   "cell_type": "markdown",
   "id": "2260d91d",
   "metadata": {},
   "source": [
    "### MODEL EXPLAINABILITY WITH SHAP"
   ]
  },
  {
   "cell_type": "code",
   "execution_count": 24,
   "id": "120ff1f6",
   "metadata": {},
   "outputs": [
    {
     "name": "stdout",
     "output_type": "stream",
     "text": [
      "\u001b[1m3/3\u001b[0m \u001b[32m━━━━━━━━━━━━━━━━━━━━\u001b[0m\u001b[37m\u001b[0m \u001b[1m0s\u001b[0m 23ms/step \n"
     ]
    },
    {
     "data": {
      "application/vnd.jupyter.widget-view+json": {
       "model_id": "7feac171cb654673bf4bc6d6d9715d3a",
       "version_major": 2,
       "version_minor": 0
      },
      "text/plain": [
       "  0%|          | 0/1 [00:00<?, ?it/s]"
      ]
     },
     "metadata": {},
     "output_type": "display_data"
    },
    {
     "name": "stdout",
     "output_type": "stream",
     "text": [
      "\u001b[1m1/1\u001b[0m \u001b[32m━━━━━━━━━━━━━━━━━━━━\u001b[0m\u001b[37m\u001b[0m \u001b[1m0s\u001b[0m 24ms/step\n",
      "\u001b[1m14/14\u001b[0m \u001b[32m━━━━━━━━━━━━━━━━━━━━\u001b[0m\u001b[37m\u001b[0m \u001b[1m0s\u001b[0m 1ms/step \n",
      "\n",
      "Explanation for recommendation:\n",
      "Aspirant 3 with preferred subjects Looking to improve my English Comprehension skills and Learning_Visual learning style\n",
      "is matched with Mentor 116 who specializes in ['Legal Reasoning'] with a Problem-solving teaching style\n",
      "Content similarity: 0.18\n",
      "SHAP Values contribution to recommendation:\n",
      "  - Aspirant: -0.0107\n",
      "  - Mentor: 0.0064\n",
      "  - Content Similarity: 0.0025\n"
     ]
    }
   ],
   "source": [
    "import shap\n",
    "\n",
    "def explain_recommendation(aspirant_id, mentor_id):\n",
    "    aspirant_idx = aspirants_processed.index[aspirants_processed['Aspirant ID'] == aspirant_id].tolist()[0]\n",
    "    mentor_idx = mentors_processed.index[mentors_processed['Mentor ID'] == mentor_id].tolist()[0]\n",
    "    content_sim = content_similarity[aspirant_idx, mentor_idx]\n",
    "    \n",
    "    if len(train_data) > 100:\n",
    "        background_samples = random.sample(train_data, 100)\n",
    "    else:\n",
    "        background_samples = train_data\n",
    "    \n",
    "    background_aspirants = np.array([x[0] for x in background_samples])\n",
    "    background_mentors = np.array([x[1] for x in background_samples])\n",
    "    background_content = np.array([content_similarity[a, m] for a, m, _ in background_samples])\n",
    "    \n",
    "    explainer = shap.KernelExplainer(\n",
    "        model=lambda x: model.predict([x[:, 0], x[:, 1], x[:, 2]]).flatten(),\n",
    "        data=np.column_stack([background_aspirants, background_mentors, background_content])\n",
    "    )\n",
    "    \n",
    "    test_instance = np.array([[aspirant_idx, mentor_idx, content_sim]])\n",
    "    shap_values = explainer.shap_values(test_instance)\n",
    "    \n",
    "    aspirant_details = aspirants_processed[aspirants_processed['Aspirant ID'] == aspirant_id]\n",
    "    mentor_details = mentor_df[mentor_df['Mentor ID'] == mentor_id]\n",
    "    \n",
    "    explanation = {\n",
    "        'Aspirant': {\n",
    "            'ID': aspirant_id,\n",
    "            'Preferred Subjects': aspirant_details['Essay/Personal Statement'].values[0],\n",
    "            'Learning Style': aspirant_details[['Learning_Auditory', 'Learning_Kinesthetic', 'Learning_Reading/Writing', 'Learning_Visual']].idxmax(axis=1).values[0],\n",
    "            'Preparation Level': aspirant_details['Prep_Level_Encoded'].values[0]\n",
    "        },\n",
    "        'Mentor': {\n",
    "            'ID': mentor_id,\n",
    "            'Specialization': mentor_details['Specialization'].values[0],\n",
    "            'Teaching Style': mentor_details['Teaching Style'].values[0],\n",
    "            'Years of Experience': mentor_details['Years of Experience'].values[0],\n",
    "            'Rating': mentor_details['Rating'].values[0]\n",
    "        },\n",
    "        'Recommendation': {\n",
    "            'Content Similarity': content_sim,\n",
    "            'SHAP Base Value': explainer.expected_value,\n",
    "            'SHAP Values': {\n",
    "                'Aspirant': shap_values[0][0],\n",
    "                'Mentor': shap_values[0][1],\n",
    "                'Content Similarity': shap_values[0][2]\n",
    "            }\n",
    "        }\n",
    "    }\n",
    "    \n",
    "    return explanation\n",
    "\n",
    "top_mentor_id = recommendations.iloc[0]['Mentor ID']\n",
    "explanation = explain_recommendation(sample_aspirant_id, top_mentor_id)\n",
    "\n",
    "print(\"\\nExplanation for recommendation:\")\n",
    "print(f\"Aspirant {sample_aspirant_id} with preferred subjects {explanation['Aspirant']['Preferred Subjects']} and {explanation['Aspirant']['Learning Style']} learning style\")\n",
    "print(f\"is matched with Mentor {top_mentor_id} who specializes in {explanation['Mentor']['Specialization']} with a {explanation['Mentor']['Teaching Style']} teaching style\")\n",
    "print(f\"Content similarity: {explanation['Recommendation']['Content Similarity']:.2f}\")\n",
    "print(\"SHAP Values contribution to recommendation:\")\n",
    "for factor, value in explanation['Recommendation']['SHAP Values'].items():\n",
    "    print(f\"  - {factor}: {value:.4f}\")\n"
   ]
  },
  {
   "cell_type": "markdown",
   "id": "8a71b857",
   "metadata": {},
   "source": [
    "### TESTING THE RELOADED MODEL"
   ]
  },
  {
   "cell_type": "code",
   "execution_count": 29,
   "id": "817d5a60",
   "metadata": {},
   "outputs": [
    {
     "name": "stderr",
     "output_type": "stream",
     "text": [
      "WARNING:absl:Compiled the loaded model, but the compiled metrics have yet to be built. `model.compile_metrics` will be empty until you train or evaluate the model.\n"
     ]
    },
    {
     "name": "stdout",
     "output_type": "stream",
     "text": [
      "\u001b[1m2/2\u001b[0m \u001b[32m━━━━━━━━━━━━━━━━━━━━\u001b[0m\u001b[37m\u001b[0m \u001b[1m0s\u001b[0m 12ms/step\n",
      "\u001b[1m2/2\u001b[0m \u001b[32m━━━━━━━━━━━━━━━━━━━━\u001b[0m\u001b[37m\u001b[0m \u001b[1m0s\u001b[0m 42ms/step\n",
      "\n",
      "Testing reloaded model...\n",
      "Original and reloaded model predictions are the same: True\n",
      "Top 3 mentors for Aspirant 15 using reloaded model: [137 116 130]\n",
      "\n",
      "=== SUMMARY ===\n",
      "Model training completed successfully.\n",
      "Model saved to disk and reload test passed.\n",
      "The system can recommend top mentors for any aspirant based on their profile and historical interactions.\n",
      "For each recommendation, SHAP explanations can be generated to understand why a mentor was recommended.\n"
     ]
    }
   ],
   "source": [
    "mentors_df = pd.read_csv('mentors.csv')\n",
    "interactions_df = pd.read_csv('interactions.csv')\n",
    "\n",
    "def test_reloaded_model():\n",
    "    reloaded_model = keras.models.load_model(\"mentor_recommender.h5\")\n",
    "    test_aspirant_id = 15\n",
    "    aspirant_idx = aspirants_processed.index[aspirants_processed['Aspirant ID'] == test_aspirant_id].tolist()[0]\n",
    "    aspirant_indices = np.full(len(mentors_processed), aspirant_idx)\n",
    "    mentor_indices = np.arange(len(mentors_processed))\n",
    "    content_sim_values = content_similarity[aspirant_idx, :]\n",
    "    original_predictions = model.predict([aspirant_indices, mentor_indices, content_sim_values])\n",
    "    reloaded_predictions = reloaded_model.predict([aspirant_indices, mentor_indices, content_sim_values])\n",
    "    is_equal = np.allclose(original_predictions, reloaded_predictions, atol=1e-6)\n",
    "    print(\"\\nTesting reloaded model...\")\n",
    "    print(f\"Original and reloaded model predictions are the same: {is_equal}\")\n",
    "    top_indices = np.argsort(reloaded_predictions.flatten())[-3:][::-1]\n",
    "    top_mentor_ids = mentors_df.iloc[top_indices]['Mentor ID'].values\n",
    "    print(f\"Top 3 mentors for Aspirant {test_aspirant_id} using reloaded model: {top_mentor_ids}\")\n",
    "    return is_equal\n",
    "\n",
    "model_reload_successful = test_reloaded_model()\n",
    "\n",
    "print(\"\\n=== SUMMARY ===\")\n",
    "print(f\"Model training completed successfully.\")\n",
    "print(f\"Model saved to disk and reload test {'passed' if model_reload_successful else 'failed'}.\")\n",
    "print(f\"The system can recommend top mentors for any aspirant based on their profile and historical interactions.\")\n",
    "print(\"For each recommendation, SHAP explanations can be generated to understand why a mentor was recommended.\")\n"
   ]
  },
  {
   "cell_type": "code",
   "execution_count": null,
   "id": "7a17b901",
   "metadata": {},
   "outputs": [],
   "source": []
  },
  {
   "cell_type": "code",
   "execution_count": null,
   "id": "144c9e2f",
   "metadata": {},
   "outputs": [],
   "source": []
  }
 ],
 "metadata": {
  "kernelspec": {
   "display_name": "base",
   "language": "python",
   "name": "python3"
  },
  "language_info": {
   "codemirror_mode": {
    "name": "ipython",
    "version": 3
   },
   "file_extension": ".py",
   "mimetype": "text/x-python",
   "name": "python",
   "nbconvert_exporter": "python",
   "pygments_lexer": "ipython3",
   "version": "3.11.7"
  }
 },
 "nbformat": 4,
 "nbformat_minor": 5
}
