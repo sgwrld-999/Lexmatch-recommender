{
 "cells": [
  {
   "cell_type": "code",
   "execution_count": 1,
   "id": "f47387d5",
   "metadata": {},
   "outputs": [],
   "source": [
    "import pandas as pd\n",
    "import numpy as np\n",
    "import random"
   ]
  },
  {
   "cell_type": "code",
   "execution_count": 2,
   "id": "622aa6d0",
   "metadata": {},
   "outputs": [],
   "source": [
    "# Assuming number of aspirants to be 100 and mentors to be 50\n",
    "num_aspirants = 100\n",
    "num_mentors = 50"
   ]
  },
  {
   "cell_type": "code",
   "execution_count": null,
   "id": "a978dc75",
   "metadata": {},
   "outputs": [],
   "source": [
    "# Generating random data for aspirants and mentors which includes their preferences like subjects, colleges, learning styles, preparation levels\n",
    "subjects = [\"Legal Reasoning\", \"Logical Reasoning\", \"General Knowledge\", \"Quantitative Techniques\", \"English Comprehension\"]\n",
    "colleges = [\"NLSIU Bangalore\", \"NALSAR Hyderabad\", \"NUJS Kolkata\", \"NLIU Bhopal\", \"GNLU Gandhinagar\"]\n",
    "learning_styles = [\"Visual\", \"Auditory\", \"Kinesthetic\", \"Reading/Writing\"]\n",
    "preparation_levels = [\"Beginner\", \"Intermediate\", \"Advanced\"]\n",
    "mentorship_styles = [\"Concept Clarity\", \"Test Strategy\", \"Motivation\", \"Personalized Guidance\"]"
   ]
  },
  {
   "cell_type": "code",
   "execution_count": 4,
   "id": "a243c26e",
   "metadata": {},
   "outputs": [],
   "source": [
    "# Generating random data for students using numpy and pandas as per the requirements\n",
    "aspirant_data = {\n",
    "    \"Aspirant ID\": range(1, num_aspirants + 1),\n",
    "    \"Preferred Subjects\": [[random.choice(subjects) for _ in range(random.randint(1, 3))] for _ in range(num_aspirants)],\n",
    "    \"Target Colleges\": [[random.choice(colleges) for _ in range(random.randint(1, 2))] for _ in range(num_aspirants)],\n",
    "    \"Current Preparation Level\": [random.choice(preparation_levels) for _ in range(num_aspirants)],\n",
    "    \"Learning Style\": [random.choice(learning_styles) for _ in range(num_aspirants)],\n",
    "    \"Location\": [random.choice([\"Delhi\", \"Mumbai\", \"Bangalore\", \"Chennai\", \"Kolkata\"]) for _ in range(num_aspirants)],\n",
    "    \"Past Mock Test Scores\": [[random.randint(50, 150) for _ in range(random.randint(3, 6))] for _ in range(num_aspirants)],\n",
    "    \"Time Commitment\": [random.randint(10, 30) for _ in range(num_aspirants)], #hours per week\n",
    "    \"Essay/Personal Statement\" : [\"Looking to improve my \"+ random.choice(subjects) + \" skills\" for _ in range(num_aspirants)],\n",
    "    \"Subject-wise Strengths and Weaknesses\" : [{random.choice(subjects) : random.choice([\"Strong\", \"Average\", \"Weak\"]) for _ in range(random.randint(2,4))} for _ in range(num_aspirants)]\n",
    "}"
   ]
  },
  {
   "cell_type": "code",
   "execution_count": 5,
   "id": "57a67358",
   "metadata": {},
   "outputs": [],
   "source": [
    "aspirant_df = pd.DataFrame(aspirant_data)"
   ]
  },
  {
   "cell_type": "code",
   "execution_count": 6,
   "id": "85891f2e",
   "metadata": {},
   "outputs": [],
   "source": [
    "mentor_data = {\n",
    "    \"Mentor ID\": range(101, num_mentors + 101),\n",
    "    \"Specialization\": [[random.choice(subjects) for _ in range(random.randint(1, 2))] for _ in range(num_mentors)],\n",
    "    \"College Attended\": [random.choice(colleges) for _ in range(num_mentors)],\n",
    "    \"Years of Experience\": [random.randint(1, 10) for _ in range(num_mentors)],\n",
    "    \"Teaching Style\": [random.choice([\"Interactive\", \"Lecture-based\", \"Problem-solving\"]) for _ in range(num_mentors)],\n",
    "    \"Past Success Rate\": [random.uniform(0.7, 1.0) for _ in range(num_mentors)],\n",
    "    \"Rating\": [round(random.uniform(3.5, 5.0), 1) for _ in range(num_mentors)],\n",
    "    \"Availability\": [random.choice([\"Weekdays\", \"Weekends\", \"Anytime\"]) for _ in range(num_mentors)],\n",
    "    \"Number of Aspirants helped\": [random.randint(5, 50) for _ in range(num_mentors)],\n",
    "    \"Mentorship Style\": [[random.choice(mentorship_styles) for _ in range(random.randint(1,2))] for _ in range(num_mentors)]\n",
    "}"
   ]
  },
  {
   "cell_type": "code",
   "execution_count": 7,
   "id": "9c12d7d5",
   "metadata": {},
   "outputs": [],
   "source": [
    "mentor_df = pd.DataFrame(mentor_data)"
   ]
  },
  {
   "cell_type": "code",
   "execution_count": 8,
   "id": "96a898e1",
   "metadata": {},
   "outputs": [],
   "source": [
    "# Generating random data for interactions between aspirants and mentors \n",
    "interactions = []\n",
    "for aspirant_id in range(1, num_aspirants + 1):\n",
    "    for _ in range(random.randint(0, 5)):  # Simulate 0-5 interactions per aspirant\n",
    "        mentor_id = random.choice(range(101, num_mentors + 101))\n",
    "        interaction = {\n",
    "            \"Aspirant ID\": aspirant_id,\n",
    "            \"Mentor ID\": mentor_id,\n",
    "            \"Interaction Type\": random.choice([\"Session\", \"Message\", \"Rating\"]),\n",
    "            \"Timestamp\": pd.to_datetime(f\"2023-{random.randint(1, 12)}-{random.randint(1, 28)}\"),\n",
    "            \"Rating\": random.randint(1, 5) if random.random() < 0.3 else np.nan #add rating 30% of the time.\n",
    "        }\n",
    "        interactions.append(interaction)\n",
    "\n",
    "interaction_df = pd.DataFrame(interactions)"
   ]
  },
  {
   "cell_type": "code",
   "execution_count": 9,
   "id": "7cad9efc",
   "metadata": {},
   "outputs": [],
   "source": [
    "aspirant_df.to_csv(\"aspirants.csv\", index=False)\n",
    "mentor_df.to_csv(\"mentors.csv\", index=False)\n",
    "interaction_df.to_csv(\"interactions.csv\", index=False)"
   ]
  },
  {
   "cell_type": "code",
   "execution_count": null,
   "id": "4d63fd87",
   "metadata": {},
   "outputs": [],
   "source": []
  }
 ],
 "metadata": {
  "kernelspec": {
   "display_name": "base",
   "language": "python",
   "name": "python3"
  },
  "language_info": {
   "codemirror_mode": {
    "name": "ipython",
    "version": 3
   },
   "file_extension": ".py",
   "mimetype": "text/x-python",
   "name": "python",
   "nbconvert_exporter": "python",
   "pygments_lexer": "ipython3",
   "version": "3.11.7"
  }
 },
 "nbformat": 4,
 "nbformat_minor": 5
}
